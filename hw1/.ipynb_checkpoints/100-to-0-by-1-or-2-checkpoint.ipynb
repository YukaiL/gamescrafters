{
 "cells": [
  {
   "cell_type": "code",
   "execution_count": 24,
   "metadata": {},
   "outputs": [],
   "source": [
    "%run Solver.ipynb"
   ]
  },
  {
   "cell_type": "code",
   "execution_count": 25,
   "metadata": {},
   "outputs": [],
   "source": [
    "GAMENAME = '10-to-0-by-1-or-2'\n",
    "STARTING_POS = 100\n",
    "POSSIBLE_MOVES = {1, 2}\n",
    "PRIMITIVE_POS = 0"
   ]
  },
  {
   "cell_type": "code",
   "execution_count": 26,
   "metadata": {},
   "outputs": [],
   "source": [
    "def DoMove(position, move):\n",
    "    return position - move"
   ]
  },
  {
   "cell_type": "code",
   "execution_count": 27,
   "metadata": {},
   "outputs": [],
   "source": [
    "def GenerateMoves(position): \n",
    "    return [move for move in POSSIBLE_MOVES if isLegal(position, move)]"
   ]
  },
  {
   "cell_type": "code",
   "execution_count": 28,
   "metadata": {},
   "outputs": [],
   "source": [
    "def PrimitiveValue(position):\n",
    "    if not isinstance(position, int) or position > STARTING_POS:\n",
    "        print('Please enter a valid number!')\n",
    "        return\n",
    "    if position == PRIMITIVE_POS:\n",
    "        return 'lose'\n",
    "    else:\n",
    "        return 'not_primitive'"
   ]
  },
  {
   "cell_type": "code",
   "execution_count": 29,
   "metadata": {},
   "outputs": [],
   "source": [
    "def isLegal(position, move):\n",
    "    return position - move >= PRIMITIVE_POS"
   ]
  },
  {
   "cell_type": "code",
   "execution_count": 31,
   "metadata": {},
   "outputs": [
    {
     "name": "stdout",
     "output_type": "stream",
     "text": [
      "100 :  win\n",
      "99 :  lose\n",
      "98 :  win\n",
      "97 :  win\n",
      "96 :  lose\n",
      "95 :  win\n",
      "94 :  win\n",
      "93 :  lose\n",
      "92 :  win\n",
      "91 :  win\n",
      "90 :  lose\n",
      "89 :  win\n",
      "88 :  win\n",
      "87 :  lose\n",
      "86 :  win\n",
      "85 :  win\n",
      "84 :  lose\n",
      "83 :  win\n",
      "82 :  win\n",
      "81 :  lose\n",
      "80 :  win\n",
      "79 :  win\n",
      "78 :  lose\n",
      "77 :  win\n",
      "76 :  win\n",
      "75 :  lose\n",
      "74 :  win\n",
      "73 :  win\n",
      "72 :  lose\n",
      "71 :  win\n",
      "70 :  win\n",
      "69 :  lose\n",
      "68 :  win\n",
      "67 :  win\n",
      "66 :  lose\n",
      "65 :  win\n",
      "64 :  win\n",
      "63 :  lose\n",
      "62 :  win\n",
      "61 :  win\n",
      "60 :  lose\n",
      "59 :  win\n",
      "58 :  win\n",
      "57 :  lose\n",
      "56 :  win\n",
      "55 :  win\n",
      "54 :  lose\n",
      "53 :  win\n",
      "52 :  win\n",
      "51 :  lose\n",
      "50 :  win\n",
      "49 :  win\n",
      "48 :  lose\n",
      "47 :  win\n",
      "46 :  win\n",
      "45 :  lose\n",
      "44 :  win\n",
      "43 :  win\n",
      "42 :  lose\n",
      "41 :  win\n",
      "40 :  win\n",
      "39 :  lose\n",
      "38 :  win\n",
      "37 :  win\n",
      "36 :  lose\n",
      "35 :  win\n",
      "34 :  win\n",
      "33 :  lose\n",
      "32 :  win\n",
      "31 :  win\n",
      "30 :  lose\n",
      "29 :  win\n",
      "28 :  win\n",
      "27 :  lose\n",
      "26 :  win\n",
      "25 :  win\n",
      "24 :  lose\n",
      "23 :  win\n",
      "22 :  win\n",
      "21 :  lose\n",
      "20 :  win\n",
      "19 :  win\n",
      "18 :  lose\n",
      "17 :  win\n",
      "16 :  win\n",
      "15 :  lose\n",
      "14 :  win\n",
      "13 :  win\n",
      "12 :  lose\n",
      "11 :  win\n",
      "10 :  win\n",
      "9 :  lose\n",
      "8 :  win\n",
      "7 :  win\n",
      "6 :  lose\n",
      "5 :  win\n",
      "4 :  win\n",
      "3 :  lose\n",
      "2 :  win\n",
      "1 :  win\n",
      "0 :  lose\n"
     ]
    }
   ],
   "source": [
    "# Memoized. Solved instantaneously\n",
    "for i in range(STARTING_POS, -1, -1):\n",
    "    print(i,  \": \",  Solve(i))"
   ]
  },
  {
   "cell_type": "code",
   "execution_count": null,
   "metadata": {},
   "outputs": [],
   "source": []
  }
 ],
 "metadata": {
  "kernelspec": {
   "display_name": "Python 3",
   "language": "python",
   "name": "python3"
  },
  "language_info": {
   "codemirror_mode": {
    "name": "ipython",
    "version": 3
   },
   "file_extension": ".py",
   "mimetype": "text/x-python",
   "name": "python",
   "nbconvert_exporter": "python",
   "pygments_lexer": "ipython3",
   "version": "3.7.4"
  }
 },
 "nbformat": 4,
 "nbformat_minor": 2
}
