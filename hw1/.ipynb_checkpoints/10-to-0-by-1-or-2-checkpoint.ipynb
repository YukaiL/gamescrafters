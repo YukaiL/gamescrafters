{
 "cells": [
  {
   "cell_type": "code",
   "execution_count": 74,
   "metadata": {},
   "outputs": [],
   "source": [
    " %run Solver.ipynb"
   ]
  },
  {
   "cell_type": "code",
   "execution_count": 85,
   "metadata": {},
   "outputs": [],
   "source": [
    "GAMENAME = '10-to-0-by-1-or-2'\n",
    "STARTING_POS_VAL = 10\n",
    "POSSIBLE_MOVES = {1, 2}\n",
    "PRIMITIVE_POS_VAL = 0"
   ]
  },
  {
   "cell_type": "code",
   "execution_count": 86,
   "metadata": {},
   "outputs": [],
   "source": [
    "def DoMove(position, move):\n",
    "    return (getValue(position) - move, getRemoteness(position) - 1)"
   ]
  },
  {
   "cell_type": "code",
   "execution_count": 87,
   "metadata": {},
   "outputs": [],
   "source": [
    "def GenerateMoves(position): \n",
    "    return [move for move in POSSIBLE_MOVES if isLegal(position, move)]"
   ]
  },
  {
   "cell_type": "code",
   "execution_count": 88,
   "metadata": {},
   "outputs": [],
   "source": [
    "def PrimitiveValue(position):\n",
    "    if not isinstance(getValue(position), int) or getValue(position) > STARTING_POS_VAL:\n",
    "        print('Please enter a valid number!')\n",
    "        return\n",
    "    if getValue(position) == PRIMITIVE_POS_VAL:\n",
    "        return ('lose', getRemoteness(position))\n",
    "    else:\n",
    "        return 'not_primitive'"
   ]
  },
  {
   "cell_type": "code",
   "execution_count": 89,
   "metadata": {},
   "outputs": [],
   "source": [
    "def isLegal(position, move):\n",
    "    return getValue(position) - move >= PRIMITIVE_POS_VAL"
   ]
  },
  {
   "cell_type": "code",
   "execution_count": 90,
   "metadata": {},
   "outputs": [],
   "source": [
    "def getValue(position):\n",
    "    return position[0]\n",
    "\n",
    "def getRemoteness(position):\n",
    "    return position[1]"
   ]
  },
  {
   "cell_type": "code",
   "execution_count": 108,
   "metadata": {},
   "outputs": [
    {
     "name": "stdout",
     "output_type": "stream",
     "text": [
      "RM      W  L  T Total\n",
      "---------------------\n",
      "7      [0, 1, 0, 1]\n",
      "6      [2, 0, 0, 2]\n",
      "5      [0, 1, 0, 1]\n",
      "4      [2, 0, 0, 2]\n",
      "3      [0, 1, 0, 1]\n",
      "2      [2, 0, 0, 2]\n",
      "1      [0, 1, 0, 1]\n",
      "0      [1, 0, 0, 1]\n",
      "---------------------\n",
      "Total  [7, 4, 0, 11]\n"
     ]
    }
   ],
   "source": [
    "import collections\n"
   ]
  },
  {
   "cell_type": "code",
   "execution_count": 109,
   "metadata": {},
   "outputs": [],
   "source": [
    "%%capture cap\n",
    "# for i in range(STARTING_POS_VAL, -1, -1):\n",
    "#     print(i,  \": \",  Solve((i, 0)))\n",
    "\n",
    "analysis = {}\n",
    "total = [0, 0, 0, 0]\n",
    "print('RM     ', 'W ', 'L ', 'T', 'Total')\n",
    "print('---------------------')\n",
    "\n",
    "for i in range(STARTING_POS_VAL, -1, -1):\n",
    "    result = Solve((i, 0))\n",
    "    rns = getRemoteness(result)\n",
    "    val = getValue(result)\n",
    "    if rns not in analysis:\n",
    "        analysis.update({rns: [0, 0, 0, 0]})\n",
    "    count_ls = analysis.get(rns)\n",
    "    if val == 'win':\n",
    "        count_ls[0] += 1\n",
    "        total[0] += 1\n",
    "    elif val == 'lose':\n",
    "        count_ls[1] += 1\n",
    "        total[1] += 1\n",
    "    count_ls[3] += 1\n",
    "    total[3] += 1\n",
    "    analysis.update({rns: count_ls})\n",
    "offset = min(analysis.keys())\n",
    "\n",
    "od = collections.OrderedDict(sorted(analysis.items(),reverse=True))\n",
    "for remote, count_ls in od.items(): \n",
    "    print(remote - offset, '    ', count_ls)\n",
    "    \n",
    "print('---------------------')\n",
    "print('Total ', total)\n",
    "\n",
    "with open(GAMENAME + '_hw3_output.txt', 'w') as f:\n",
    "    f.write(cap.stdout)"
   ]
  },
  {
   "cell_type": "code",
   "execution_count": null,
   "metadata": {},
   "outputs": [],
   "source": []
  }
 ],
 "metadata": {
  "kernelspec": {
   "display_name": "Python 3",
   "language": "python",
   "name": "python3"
  },
  "language_info": {
   "codemirror_mode": {
    "name": "ipython",
    "version": 3
   },
   "file_extension": ".py",
   "mimetype": "text/x-python",
   "name": "python",
   "nbconvert_exporter": "python",
   "pygments_lexer": "ipython3",
   "version": "3.7.4"
  }
 },
 "nbformat": 4,
 "nbformat_minor": 2
}
