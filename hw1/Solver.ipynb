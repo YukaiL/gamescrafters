{
 "cells": [
  {
   "cell_type": "code",
   "execution_count": 10,
   "metadata": {},
   "outputs": [],
   "source": [
    "# Solve(position) → { win, tie, lose, draw }\n",
    "def Solve(position):\n",
    "    if PrimitiveValue(position) == 'not_primitive':\n",
    "        for move in GenerateMoves(position):\n",
    "            if Solve(DoMove(position, move)) == 'lose':\n",
    "                return 'win'\n",
    "        return 'lose'\n",
    "    return PrimitiveValue(position)"
   ]
  },
  {
   "cell_type": "code",
   "execution_count": null,
   "metadata": {},
   "outputs": [],
   "source": []
  }
 ],
 "metadata": {
  "kernelspec": {
   "display_name": "Python 3",
   "language": "python",
   "name": "python3"
  },
  "language_info": {
   "codemirror_mode": {
    "name": "ipython",
    "version": 3
   },
   "file_extension": ".py",
   "mimetype": "text/x-python",
   "name": "python",
   "nbconvert_exporter": "python",
   "pygments_lexer": "ipython3",
   "version": "3.7.4"
  }
 },
 "nbformat": 4,
 "nbformat_minor": 2
}
