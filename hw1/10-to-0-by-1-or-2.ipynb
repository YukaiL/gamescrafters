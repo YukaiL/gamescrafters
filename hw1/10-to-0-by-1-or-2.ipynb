{
 "cells": [
  {
   "cell_type": "code",
   "execution_count": 1,
   "metadata": {},
   "outputs": [],
   "source": [
    "%run Solver.ipynb"
   ]
  },
  {
   "cell_type": "code",
   "execution_count": 2,
   "metadata": {},
   "outputs": [],
   "source": [
    "GAMENAME = '10-to-0-by-1-or-2'\n",
    "STARTING_POS = 10\n",
    "POSSIBLE_MOVES = {1, 2}\n",
    "PRIMITIVE_POS = 0"
   ]
  },
  {
   "cell_type": "code",
   "execution_count": 3,
   "metadata": {},
   "outputs": [],
   "source": [
    "def DoMove(position, move):\n",
    "    return position - move"
   ]
  },
  {
   "cell_type": "code",
   "execution_count": 4,
   "metadata": {},
   "outputs": [],
   "source": [
    "def GenerateMoves(position): \n",
    "    return [move for move in POSSIBLE_MOVES if isLegal(position, move)]"
   ]
  },
  {
   "cell_type": "code",
   "execution_count": 5,
   "metadata": {},
   "outputs": [],
   "source": [
    "def PrimitiveValue(position):\n",
    "    if not isinstance(position, int) or position > STARTING_POS:\n",
    "        print('Please enter a valid number!')\n",
    "        return\n",
    "    if position == PRIMITIVE_POS:\n",
    "        return 'lose'\n",
    "    else:\n",
    "        return 'not_primitive'"
   ]
  },
  {
   "cell_type": "code",
   "execution_count": 6,
   "metadata": {},
   "outputs": [],
   "source": [
    "def isLegal(position, move):\n",
    "    return position - move >= PRIMITIVE_POS"
   ]
  },
  {
   "cell_type": "code",
   "execution_count": 9,
   "metadata": {},
   "outputs": [],
   "source": [
    "%%capture cap\n",
    "for i in range(STARTING_POS, -1, -1):\n",
    "    print(i,  \": \",  Solve(i))\n",
    "with open(GAMENAME + '_output.txt', 'w') as f:\n",
    "    f.write(cap.stdout)"
   ]
  },
  {
   "cell_type": "code",
   "execution_count": null,
   "metadata": {},
   "outputs": [],
   "source": []
  }
 ],
 "metadata": {
  "kernelspec": {
   "display_name": "Python 3",
   "language": "python",
   "name": "python3"
  },
  "language_info": {
   "codemirror_mode": {
    "name": "ipython",
    "version": 3
   },
   "file_extension": ".py",
   "mimetype": "text/x-python",
   "name": "python",
   "nbconvert_exporter": "python",
   "pygments_lexer": "ipython3",
   "version": "3.7.4"
  }
 },
 "nbformat": 4,
 "nbformat_minor": 2
}
