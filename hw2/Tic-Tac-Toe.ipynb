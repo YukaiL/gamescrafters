{
 "cells": [
  {
   "cell_type": "code",
   "execution_count": 218,
   "metadata": {},
   "outputs": [],
   "source": [
    "%run Solver.ipynb"
   ]
  },
  {
   "cell_type": "code",
   "execution_count": 201,
   "metadata": {},
   "outputs": [],
   "source": [
    "# Position format: (\"xxoo-----\", remoteness)\n",
    "GAMENAME = 'TIC_TAC_TOE'\n",
    "STARTING_POS = (\"---------\", 0)"
   ]
  },
  {
   "cell_type": "code",
   "execution_count": 202,
   "metadata": {},
   "outputs": [],
   "source": [
    "def DoMove(position, move):\n",
    "    pos = getValue(position)\n",
    "    if pos.count('x') > pos.count('o'):\n",
    "        pos = list(pos)\n",
    "        pos[move] = 'o'\n",
    "        pos = \"\".join(pos)\n",
    "    else:\n",
    "        pos = list(pos)\n",
    "        pos[move] = 'x'\n",
    "        pos = \"\".join(pos)\n",
    "    return (pos, getRemoteness(position))"
   ]
  },
  {
   "cell_type": "code",
   "execution_count": 203,
   "metadata": {},
   "outputs": [],
   "source": [
    "def GenerateMoves(position): \n",
    "    return [i for i, char in enumerate(getValue(position)) if char == '-']"
   ]
  },
  {
   "cell_type": "code",
   "execution_count": 204,
   "metadata": {},
   "outputs": [],
   "source": [
    "def triple_equal(string, a, b, c):\n",
    "    return string[a] != '-' and \\\n",
    "string[a] == string[b] and \\\n",
    "string[b] == string[c]\n",
    "\n",
    "def haspattern(position):\n",
    "    pos = getValue(position)\n",
    "    return triple_equal(pos,0,1,2) or \\\n",
    "triple_equal(pos,3,4,5) or triple_equal(pos,6,7,8) \\\n",
    "or triple_equal(pos,0,3,6) or triple_equal(pos,1,4,7) or \\\n",
    "triple_equal(pos,2,5,8) or \\\n",
    "triple_equal(pos,0,4,8) or triple_equal(pos,2,4,6)\n",
    "\n",
    "def modify_str(string, index, char):\n",
    "    new = list(string)\n",
    "    new[index] = char\n",
    "    "
   ]
  },
  {
   "cell_type": "code",
   "execution_count": 205,
   "metadata": {},
   "outputs": [],
   "source": [
    "def PrimitiveValue(position):\n",
    "    if haspattern(position):\n",
    "        return (\"lose\", 0)\n",
    "    elif '-' not in getValue(position):\n",
    "        return (\"tie\", 0)\n",
    "    else:\n",
    "        return \"not_primitive\""
   ]
  },
  {
   "cell_type": "code",
   "execution_count": 206,
   "metadata": {},
   "outputs": [],
   "source": [
    "def getValue(position):\n",
    "    return position[0]\n",
    "\n",
    "def getRemoteness(position):\n",
    "    return position[1]"
   ]
  },
  {
   "cell_type": "code",
   "execution_count": 219,
   "metadata": {},
   "outputs": [
    {
     "name": "stdout",
     "output_type": "stream",
     "text": [
      "-----------Vanilla Output-----------\n",
      "result is a tie!\n",
      "Lose:  1574  ( 942  primitive)\n",
      "Win:  2836  ( 0  primitive)\n",
      "Tie:  1068  ( 16  primitive)\n",
      "Total:  5478  ( 958  primitive)\n",
      "-----------------------------------\n"
     ]
    }
   ],
   "source": [
    "\n"
   ]
  },
  {
   "cell_type": "code",
   "execution_count": 221,
   "metadata": {},
   "outputs": [],
   "source": [
    "import collections"
   ]
  },
  {
   "cell_type": "code",
   "execution_count": 226,
   "metadata": {},
   "outputs": [],
   "source": [
    "%%capture cap\n",
    "\n",
    "result = Solve(STARTING_POS)\n",
    "print('-----------Vanilla Output-----------')\n",
    "print(\"result is a \" + result[0] + '!')\n",
    "\n",
    "losses = len(lose_s)\n",
    "wins = len(win_s)\n",
    "ties = len(tie_s)\n",
    "pr_losses = len(lose_primitive_s)\n",
    "pr_wins = len(win_primitive_s)\n",
    "pr_ties = len(tie_primitive_s)\n",
    "\n",
    "total_losses = losses + pr_losses\n",
    "total_wins = wins + pr_wins\n",
    "total_ties = ties + pr_ties\n",
    "total = total_losses + total_wins + total_ties\n",
    "pr_total = pr_losses + pr_wins + pr_ties\n",
    "\n",
    "print(\"Lose: \", total_losses, ' (', pr_losses, ' primitive)')\n",
    "print(\"Win: \", total_wins, ' (', pr_wins, ' primitive)')\n",
    "print(\"Tie: \", total_ties, ' (', pr_ties, ' primitive)')\n",
    "print(\"Total: \", total, ' (', pr_total, ' primitive)')\n",
    "\n",
    "print('-----------------------------------')\n",
    "\n",
    "print('-----------Remoteness Output-----------')\n",
    "\n",
    "analysis = {}\n",
    "total = [0, 0, 0, 0]\n",
    "print('RM     ', 'W ', 'L ', 'T', 'Total')\n",
    "print('---------------------')\n",
    "\n",
    "# update analysis dict using remoteness as key and array of result as count\n",
    "# {remoteness: [#win, #lose, #tie, #total]}\n",
    "def update(target_dictionary, source_set, index, total_array):\n",
    "    for pos in source_set:\n",
    "        rns = getRemoteness(pos)\n",
    "        if rns not in target_dictionary:\n",
    "            target_dictionary.update({rns: [0,0,0,0]})\n",
    "        count_ls = target_dictionary.get(rns)\n",
    "        count_ls[index] += 1\n",
    "        total[index] += 1\n",
    "        count_ls[3] += 1\n",
    "        total[3] += 1\n",
    "        target_dictionary.update({rns: count_ls})\n",
    "    \n",
    "update(analysis, win_s, 0, total)\n",
    "update(analysis, win_primitive_s, 0, total)\n",
    "update(analysis, lose_s, 1, total)\n",
    "update(analysis, lose_primitive_s, 1, total)\n",
    "update(analysis, tie_s, 2, total)\n",
    "update(analysis, tie_primitive_s, 2, total)\n",
    "\n",
    "# offset = min(analysis.keys())\n",
    "od = collections.OrderedDict(sorted(analysis.items(),reverse=True))\n",
    "for remote, count_ls in od.items(): print(remote, '    ', count_ls)\n",
    "\n",
    "print('---------------------')\n",
    "print('Total ', total)\n",
    "\n",
    "with open(GAMENAME + '_hw3_output.txt', 'w') as f:\n",
    "    f.write(cap.stdout)"
   ]
  },
  {
   "cell_type": "code",
   "execution_count": null,
   "metadata": {},
   "outputs": [],
   "source": []
  }
 ],
 "metadata": {
  "kernelspec": {
   "display_name": "Python 3",
   "language": "python",
   "name": "python3"
  },
  "language_info": {
   "codemirror_mode": {
    "name": "ipython",
    "version": 3
   },
   "file_extension": ".py",
   "mimetype": "text/x-python",
   "name": "python",
   "nbconvert_exporter": "python",
   "pygments_lexer": "ipython3",
   "version": "3.7.4"
  }
 },
 "nbformat": 4,
 "nbformat_minor": 2
}
