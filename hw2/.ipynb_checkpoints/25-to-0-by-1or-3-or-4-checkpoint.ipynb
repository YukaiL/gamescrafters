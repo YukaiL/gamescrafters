{
 "cells": [
  {
   "cell_type": "code",
   "execution_count": 94,
   "metadata": {},
   "outputs": [],
   "source": [
    "%run Solver.ipynb"
   ]
  },
  {
   "cell_type": "code",
   "execution_count": 95,
   "metadata": {},
   "outputs": [],
   "source": [
    "GAMENAME = '25-to-0-by-1-or-3-or-4'\n",
    "STARTING_POS = 25\n",
    "POSSIBLE_MOVES = {1, 3, 4}\n",
    "PRIMITIVE_POS = 0"
   ]
  },
  {
   "cell_type": "code",
   "execution_count": 96,
   "metadata": {},
   "outputs": [],
   "source": [
    "# DoMove(position, move) → new_position\n",
    "# Function: returns a new position (new_position), the result of making the move from the position\n",
    "# Requires: position is not a primitive position, and move is a legal move from position.\n",
    "# Example: DoMove(“9 pennies”, “take one penny”) → “8 pennies”\n",
    "\n",
    "def DoMove(position, move):\n",
    "    return position - move"
   ]
  },
  {
   "cell_type": "code",
   "execution_count": 97,
   "metadata": {},
   "outputs": [],
   "source": [
    "# GenerateMoves(position) → set of moves\n",
    "# Function: returns the set of moves available from the position\n",
    "# Requires: position is not a primitive position\n",
    "# Example: GenerateMoves(“9 pennies”) → set of (“take one penny”, “take two pennies”)\n",
    "# Example: GenerateMoves(“1 penny”) → set of (“take one penny”)\n",
    "\n",
    "def GenerateMoves(position): \n",
    "    return [move for move in POSSIBLE_MOVES if isLegal(position, move)]"
   ]
  },
  {
   "cell_type": "code",
   "execution_count": 98,
   "metadata": {},
   "outputs": [],
   "source": [
    "# PrimitiveValue(position) → { win, tie, lose, not_primitive } // For the person whose turn it is!\n",
    "# Function: If the position is primitive, then based on the “to win/lose/tie” conditions, return its value (win, lose, or tie). If the position is not primitive, return not_primitive\n",
    "# Example: PrimitiveValue(“1 penny”) → undecided\n",
    "# Example: PrimitiveValue(“no pennies”) → lose // If you can’t move, you lose\n",
    "\n",
    "def PrimitiveValue(position):\n",
    "#     print(position)\n",
    "    if not isinstance(position, int) or position > STARTING_POS:\n",
    "        print('Please enter a valid number!')\n",
    "#         print(position)\n",
    "#         print(2222222222)\n",
    "        return 'yes'\n",
    "    if position == PRIMITIVE_POS:\n",
    "        return 'lose'\n",
    "    else:\n",
    "        return 'not_primitive'"
   ]
  },
  {
   "cell_type": "code",
   "execution_count": 99,
   "metadata": {},
   "outputs": [],
   "source": [
    "def isLegal(position, move):\n",
    "    return position - move >= PRIMITIVE_POS"
   ]
  },
  {
   "cell_type": "code",
   "execution_count": 102,
   "metadata": {},
   "outputs": [],
   "source": [
    "%%capture cap\n",
    "for i in range(25, -1, -1):\n",
    "    print(i,  \": \",  Solve(i))\n",
    "with open(GAMENAME + '_output.txt', 'w') as f:\n",
    "    f.write(cap.stdout)"
   ]
  },
  {
   "cell_type": "code",
   "execution_count": null,
   "metadata": {},
   "outputs": [],
   "source": []
  }
 ],
 "metadata": {
  "kernelspec": {
   "display_name": "Python 3",
   "language": "python",
   "name": "python3"
  },
  "language_info": {
   "codemirror_mode": {
    "name": "ipython",
    "version": 3
   },
   "file_extension": ".py",
   "mimetype": "text/x-python",
   "name": "python",
   "nbconvert_exporter": "python",
   "pygments_lexer": "ipython3",
   "version": "3.7.4"
  }
 },
 "nbformat": 4,
 "nbformat_minor": 2
}
