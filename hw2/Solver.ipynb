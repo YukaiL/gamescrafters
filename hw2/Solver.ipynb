{
 "cells": [
  {
   "cell_type": "code",
   "execution_count": 48,
   "metadata": {},
   "outputs": [],
   "source": [
    "# Solve(position) → { win, tie, lose, draw }\n",
    "def Solve(position):\n",
    "    if USE_SYMMETRY:\n",
    "        cononical = exist(position[0], all_dis_pos)\n",
    "        if cononical:\n",
    "            return all_dis_pos.get(cononical)\n",
    "    pos = PrimitiveValue(position)\n",
    "    if pos == 'not_primitive':\n",
    "        hasLose = False\n",
    "        hasTie = False\n",
    "        # remoteness of winning children\n",
    "        ChildWinRemotesArr = []\n",
    "        # remoteness of tie children\n",
    "        ChildTieRemotesArr = []\n",
    "        # remoteness of losing children\n",
    "        ChildLoseRemotesArr = []\n",
    "        for move in GenerateMoves(position):\n",
    "            result = Solve(DoMove(position, move))\n",
    "            if result[0] == 'lose':\n",
    "                ChildLoseRemotesArr.append(result[1])\n",
    "                hasLose = True\n",
    "            elif result[0] == 'tie':\n",
    "                ChildTieRemotesArr.append(result[1])\n",
    "                hasTie = True\n",
    "            else:\n",
    "                ChildWinRemotesArr.append(result[1])\n",
    "        if hasLose:\n",
    "            # Player wants to win ASAP\n",
    "            win_s.add((position[0], min(ChildLoseRemotesArr) + 1))\n",
    "            return (\"win\", min(ChildLoseRemotesArr) + 1)\n",
    "        elif hasTie:\n",
    "            # Player wants to tie As slow as possible\n",
    "            tie_s.add((position[0], max(ChildTieRemotesArr) + 1))\n",
    "            return (\"tie\", max(ChildTieRemotesArr) + 1)\n",
    "        else:\n",
    "            # Player wants to lose As slow as possible\n",
    "            lose_s.add((position[0], max(ChildWinRemotesArr) + 1))\n",
    "            return (\"lose\", max(ChildWinRemotesArr) + 1)\n",
    "    elif pos[0] == \"lose\":\n",
    "        lose_primitive_s.add((position[0], 0))\n",
    "        return pos\n",
    "    elif pos[0] == \"tie\":\n",
    "        tie_primitive_s.add((position[0], 0))\n",
    "        return pos\n",
    "    else:\n",
    "        print(\"There is an error!\")\n",
    "        return"
   ]
  },
  {
   "cell_type": "code",
   "execution_count": 49,
   "metadata": {},
   "outputs": [],
   "source": [
    "# Variables for analysis\n",
    "# Each set contains tuples -> (position_str, remoteness_int)\n",
    "lose_s = set()\n",
    "win_s = set()\n",
    "tie_s = set()\n",
    "lose_primitive_s = set()\n",
    "win_primitive_s = set()\n",
    "tie_primitive_s = set()"
   ]
  },
  {
   "cell_type": "code",
   "execution_count": null,
   "metadata": {},
   "outputs": [],
   "source": []
  }
 ],
 "metadata": {
  "kernelspec": {
   "display_name": "Python 3",
   "language": "python",
   "name": "python3"
  },
  "language_info": {
   "codemirror_mode": {
    "name": "ipython",
    "version": 3
   },
   "file_extension": ".py",
   "mimetype": "text/x-python",
   "name": "python",
   "nbconvert_exporter": "python",
   "pygments_lexer": "ipython3",
   "version": "3.7.4"
  }
 },
 "nbformat": 4,
 "nbformat_minor": 2
}
